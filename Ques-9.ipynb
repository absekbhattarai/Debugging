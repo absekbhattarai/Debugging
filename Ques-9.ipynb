{
 "cells": [
  {
   "cell_type": "code",
   "execution_count": 6,
   "metadata": {},
   "outputs": [
    {
     "name": "stdout",
     "output_type": "stream",
     "text": [
      "suvrata1sd\n",
      "a1sd\n",
      "8c945aafbca6a3009cf89d92f68808dc12329bceda2d79575eba92eb37f2324282b59dd3a832f37d595560010292a02ac78158762a1f7efad2a9c748fe7dd840\n"
     ]
    }
   ],
   "source": [
    "import hashlib, uuid\n",
    "message = 'suvrat'\n",
    "salt = 'a1sd'\n",
    "new_message = message+salt\n",
    "print(new_message)\n",
    "hashed_msg = hashlib.sha512(new_message.encode('utf-8')).hexdigest()\n",
    "print(hashed_msg)\n"
   ]
  },
  {
   "cell_type": "code",
   "execution_count": null,
   "metadata": {},
   "outputs": [],
   "source": []
  }
 ],
 "metadata": {
  "kernelspec": {
   "display_name": "Python 3",
   "language": "python",
   "name": "python3"
  },
  "language_info": {
   "codemirror_mode": {
    "name": "ipython",
    "version": 3
   },
   "file_extension": ".py",
   "mimetype": "text/x-python",
   "name": "python",
   "nbconvert_exporter": "python",
   "pygments_lexer": "ipython3",
   "version": "3.7.2"
  }
 },
 "nbformat": 4,
 "nbformat_minor": 2
}
